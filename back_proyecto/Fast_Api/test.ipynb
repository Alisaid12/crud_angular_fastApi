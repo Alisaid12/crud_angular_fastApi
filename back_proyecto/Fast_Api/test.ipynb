{
 "cells": [
  {
   "cell_type": "code",
   "execution_count": 9,
   "metadata": {},
   "outputs": [],
   "source": [
    "import mysql.connector"
   ]
  },
  {
   "cell_type": "code",
   "execution_count": 10,
   "id": "3a8c830a",
   "metadata": {},
   "outputs": [],
   "source": [
    "def create_connection():\n",
    "    return mysql.connector.connect(\n",
    "        host='localhost',\n",
    "        user='root',\n",
    "        password='',\n",
    "        database='manijia'\n",
    "    )"
   ]
  },
  {
   "cell_type": "code",
   "execution_count": 11,
   "id": "f8583815",
   "metadata": {},
   "outputs": [
    {
     "data": {
      "text/plain": [
       "<mysql.connector.connection.MySQLConnection at 0x171deb291d0>"
      ]
     },
     "execution_count": 11,
     "metadata": {},
     "output_type": "execute_result"
    }
   ],
   "source": [
    "create_connection()"
   ]
  },
  {
   "cell_type": "code",
   "execution_count": 22,
   "id": "10f718a8",
   "metadata": {},
   "outputs": [],
   "source": [
    "def get_cursor():\n",
    "    conn = create_connection()\n",
    "    cursor = conn.cursor(dictionary=True)\n",
    "    return  cursor"
   ]
  },
  {
   "cell_type": "code",
   "execution_count": 23,
   "id": "857bdf57",
   "metadata": {},
   "outputs": [
    {
     "data": {
      "text/plain": [
       "<mysql.connector.cursor.MySQLCursorDict at 0x171deb214f0>"
      ]
     },
     "execution_count": 23,
     "metadata": {},
     "output_type": "execute_result"
    }
   ],
   "source": [
    "get_cursor()"
   ]
  },
  {
   "cell_type": "code",
   "execution_count": 20,
   "id": "79afbd07",
   "metadata": {},
   "outputs": [
    {
     "name": "stdout",
     "output_type": "stream",
     "text": [
      "MySQLCursorDict: (Nothing executed yet)\n",
      "<mysql.connector.connection.MySQLConnection object at 0x00000171DEB29590>\n"
     ]
    }
   ],
   "source": [
    "cr,co = get_cursor()\n",
    "print(cr)\n",
    "print(co)"
   ]
  },
  {
   "cell_type": "code",
   "execution_count": 25,
   "id": "bfb5dbc1",
   "metadata": {},
   "outputs": [
    {
     "data": {
      "text/plain": [
       "<mysql.connector.cursor.MySQLCursorDict at 0x171dea1b690>"
      ]
     },
     "execution_count": 25,
     "metadata": {},
     "output_type": "execute_result"
    }
   ],
   "source": [
    "get_cursor()\n"
   ]
  }
 ],
 "metadata": {
  "kernelspec": {
   "display_name": "Python 3",
   "language": "python",
   "name": "python3"
  },
  "language_info": {
   "codemirror_mode": {
    "name": "ipython",
    "version": 3
   },
   "file_extension": ".py",
   "mimetype": "text/x-python",
   "name": "python",
   "nbconvert_exporter": "python",
   "pygments_lexer": "ipython3",
   "version": "3.13.2"
  }
 },
 "nbformat": 4,
 "nbformat_minor": 5
}
